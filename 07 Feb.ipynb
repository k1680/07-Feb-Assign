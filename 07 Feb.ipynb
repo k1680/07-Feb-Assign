{
 "cells": [
  {
   "cell_type": "code",
   "execution_count": 1,
   "id": "352af533-4e9a-4525-9e81-015395ed6897",
   "metadata": {},
   "outputs": [
    {
     "name": "stdin",
     "output_type": "stream",
     "text": [
      "Enter a password:  AbcdEf@!)4845\n"
     ]
    },
    {
     "name": "stdout",
     "output_type": "stream",
     "text": [
      "Valid Password\n"
     ]
    }
   ],
   "source": [
    "\"\"\"Q1. You are writing code for a company. The requirement of the company is that you create a python\n",
    "function that will check whether the password entered by the user is correct or not. The function should\n",
    "take the password as input and return the string “Valid Password” if the entered password follows the\n",
    "below-given password guidelines else it should return “Invalid Password”.\n",
    "Note: 1. The Password should contain at least two uppercase letters and at least two lowercase letters.\n",
    "2. The Password should contain at least a number and three special characters.\n",
    "3. The length of the password should be 10 characters long.\"\"\"\n",
    "\n",
    "# Ans:\n",
    "\n",
    "password = input(\"Enter a password: \")\n",
    "c1, c2, c3, c4 = 0, 0, 0, 0\n",
    "if len(password) < 10:\n",
    "    print(\"Invalid Password\")\n",
    "else:\n",
    "    l1 = ['A','B','C','D','E','F','G','H','I','J','K','L','M','N','O','P','Q','R','S','T','U','V','W','X','Y','Z']\n",
    "    l2 = ['a','b','c','d','e','f','g','h','i','j','k','l','m','n','o','p','q','r','s','t','u','v','w','x','y','z']\n",
    "    l3 = ['0','1','2','3','4','5','6','7','8','9']\n",
    "    for i in password:\n",
    "        if i in l1:\n",
    "            c1 += 1\n",
    "        elif i in l2:\n",
    "            c2 += 1\n",
    "        elif i in l3:\n",
    "            c3 += 1\n",
    "        else:\n",
    "            c4 += 1\n",
    "    if c1 > 1 and c2 > 1 and c3 > 0 and c4 > 2:\n",
    "        print(\"Valid Password\")\n",
    "    else:\n",
    "        print(\"Invalid Password\")\n",
    "            "
   ]
  },
  {
   "cell_type": "code",
   "execution_count": 1,
   "id": "3ff36f4f-3613-4d7f-9cd8-5dcc560379c7",
   "metadata": {},
   "outputs": [
    {
     "name": "stdin",
     "output_type": "stream",
     "text": [
      "Enter a String:  oranges\n",
      "Character:  o\n"
     ]
    },
    {
     "name": "stdout",
     "output_type": "stream",
     "text": [
      "True\n"
     ]
    },
    {
     "name": "stdin",
     "output_type": "stream",
     "text": [
      "Enter a String:  4455\n"
     ]
    },
    {
     "name": "stdout",
     "output_type": "stream",
     "text": [
      "True\n",
      "[('orange', 80), ('mango', 99), ('grapes', 1000)]\n",
      "[1, 4, 9, 16, 25, 36, 49, 64, 81, 100]\n",
      "[1.0, 0.125, 0.037037037037037035, 0.015625, 0.008, 0.004629629629629629, 0.0029154518950437317, 0.001953125, 0.0013717421124828531, 0.001]\n"
     ]
    },
    {
     "name": "stdin",
     "output_type": "stream",
     "text": [
      "Enter a number:  44\n"
     ]
    },
    {
     "name": "stdout",
     "output_type": "stream",
     "text": [
      "Even Number\n",
      "[1, 3, 5, 7, 9]\n",
      "[1, 2, 3, 4, 5, 6, 0]\n",
      "[-1, -2, -3, -4, -5]\n"
     ]
    }
   ],
   "source": [
    "\"\"\"Q2. Solve the below-given questions using at least one of the following:\n",
    "1. Lambda function\n",
    "2. Filter function\n",
    "3. Map function\n",
    "4. List Comprehension\n",
    "B Check if the string starts with a particular letter\n",
    "B Check if the string is numeric\n",
    "B Sort a list of tuples having fruit names and their quantity. [(\"mango\",99),(\"orange\",80), (\"grapes\", 1000)]\n",
    "B Find the squares of numbers from 1 to 10\n",
    "B Find the cube root of numbers from 1 to 10\n",
    "B Check if a given number is even\n",
    "B Filter odd numbers from the given list.\n",
    "[1,2,3,4,5,6,7,8,9,10]\n",
    "B Sort a list of integers into positive and negative integers lists.\n",
    "[1,2,3,4,5,6,-1,-2,-3,-4,-5,0]\"\"\"\n",
    "\n",
    "\n",
    "# Check if the string starts with a particular letter\n",
    "# Ans:\n",
    "string = input(\"Enter a String: \")\n",
    "character = input(\"Character: \")\n",
    "check = lambda string, character: True if string[0] == character else False\n",
    "print(check(string,character))\n",
    "\n",
    "\n",
    "# Check if the string is numeric\n",
    "# Ans:\n",
    "string = input(\"Enter a String: \")\n",
    "check = lambda x: x.isdigit()\n",
    "print(check(string))\n",
    "\n",
    "\n",
    "# Sort a list of tuples having fruit names and their quantity. \n",
    "# Ans:\n",
    "l1 = [(\"mango\",99),(\"orange\",80), (\"grapes\", 1000)]\n",
    "sorted_order = [80, 99, 1000]\n",
    "res = [i for j in sorted_order for i in filter(lambda k: k[1] == j, l1)]\n",
    "print(res)\n",
    "\n",
    "\n",
    "# Find the squares of numbers from 1 to 10\n",
    "# Ans:\n",
    "l1 = list(range(1,11))\n",
    "l2 = [i**2 for i in l1]\n",
    "print(l2)\n",
    "\n",
    "\n",
    "# Find the cube root of numbers from 1 to 10\n",
    "# Ans:\n",
    "l1 = list(range(1,11))\n",
    "l2 = [i**(-3) for i in l1]\n",
    "print(l2)\n",
    "\n",
    "\n",
    "# Check if a given number is even\n",
    "# Ans:\n",
    "n = int(input(\"Enter a number: \"))\n",
    "check = lambda x: 'Even Number' if x%2==0 else 'Odd Number'\n",
    "print(check(n))\n",
    "\n",
    "\n",
    "# Filter odd numbers from the given list. [1,2,3,4,5,6,7,8,9,10]\n",
    "# Ans:\n",
    "l1 = [1,2,3,4,5,6,7,8,9,10]\n",
    "filtered = list(filter(lambda x: x%2!=0, l1))\n",
    "print(filtered)\n",
    "\n",
    "\n",
    "# Sort a list of integers into positive and negative integers lists. [1,2,3,4,5,6,-1,-2,-3,-4,-5,0]\n",
    "l1 = [1,2,3,4,5,6,-1,-2,-3,-4,-5,0]\n",
    "l_pos = [i for i in l1 if i >= 0]\n",
    "l_neg = [i for i in l1 if i < 0]\n",
    "print(l_pos)\n",
    "print(l_neg)"
   ]
  },
  {
   "cell_type": "code",
   "execution_count": null,
   "id": "fc3d2da4-363d-4b83-9241-61a1e44a503d",
   "metadata": {},
   "outputs": [],
   "source": []
  }
 ],
 "metadata": {
  "kernelspec": {
   "display_name": "Python 3 (ipykernel)",
   "language": "python",
   "name": "python3"
  },
  "language_info": {
   "codemirror_mode": {
    "name": "ipython",
    "version": 3
   },
   "file_extension": ".py",
   "mimetype": "text/x-python",
   "name": "python",
   "nbconvert_exporter": "python",
   "pygments_lexer": "ipython3",
   "version": "3.10.8"
  }
 },
 "nbformat": 4,
 "nbformat_minor": 5
}
